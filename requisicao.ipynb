{
 "cells": [
  {
   "cell_type": "code",
   "execution_count": null,
   "id": "a94e8e73",
   "metadata": {},
   "outputs": [],
   "source": [
    "pip install wordcloud"
   ]
  },
  {
   "cell_type": "code",
   "execution_count": null,
   "id": "c7ea4159",
   "metadata": {},
   "outputs": [],
   "source": [
    "pip install seaborn\n"
   ]
  },
  {
   "cell_type": "markdown",
   "id": "ec88e756",
   "metadata": {},
   "source": [
    "# importaremos as bibliotecas necessárias para o desenvolvimento do notebook"
   ]
  },
  {
   "cell_type": "code",
   "execution_count": 24,
   "id": "139d7082",
   "metadata": {},
   "outputs": [],
   "source": [
    "import requests\n",
    "import json\n",
    "import pandas as pd\n",
    "import seaborn as sns\n",
    "import matplotlib.pyplot as plt\n",
    "from wordcloud import WordCloud"
   ]
  },
  {
   "cell_type": "markdown",
   "id": "7d5a9c69",
   "metadata": {},
   "source": [
    "Requisição de Dados da API - API REST - Utilizaremos a função request do pacote requests, passando o método (GET), a url (https://dadosabertos.camara.leg.br/api/v2/deputados) e os parametros. Utilizaremos a função loads da biblioteca json. Assim conseguimos obter os dados em um formato de dicionário."
   ]
  },
  {
   "cell_type": "code",
   "execution_count": 67,
   "id": "a2cc5140",
   "metadata": {},
   "outputs": [],
   "source": [
    "# Requisição dos dados dos Deputados\n",
    "url        = 'https://dadosabertos.camara.leg.br/api/v2/deputados/'\n",
    "parametros = {}\n",
    "resposta   = requests.request(\"GET\", url, params=parametros)\n",
    "objetos    = json.loads(resposta.text)\n",
    "dados      = objetos['dados']\n",
    "dados_parametros = objetos['dados']"
   ]
  },
  {
   "cell_type": "markdown",
   "id": "6208ac7f",
   "metadata": {},
   "source": [
    "O parâmetro deixado vazio vai exercer a função de filtro na requisição da API, trazendo assim a informação indicada conforme a nescessidade."
   ]
  },
  {
   "cell_type": "code",
   "execution_count": 52,
   "id": "ec306fc6",
   "metadata": {},
   "outputs": [
    {
     "data": {
      "text/plain": [
       "[{'id': 220715,\n",
       "  'uri': 'https://dadosabertos.camara.leg.br/api/v2/deputados/220715',\n",
       "  'nome': 'Amom Mandel',\n",
       "  'siglaPartido': 'CIDADANIA',\n",
       "  'uriPartido': 'https://dadosabertos.camara.leg.br/api/v2/partidos/37905',\n",
       "  'siglaUf': 'AM',\n",
       "  'idLegislatura': 57,\n",
       "  'urlFoto': 'https://www.camara.leg.br/internet/deputado/bandep/220715.jpg',\n",
       "  'email': 'dep.amommandel@camara.leg.br'}]"
      ]
     },
     "execution_count": 52,
     "metadata": {},
     "output_type": "execute_result"
    }
   ],
   "source": [
    "dados_parametros"
   ]
  },
  {
   "cell_type": "code",
   "execution_count": 48,
   "id": "7f8e7df4",
   "metadata": {},
   "outputs": [
    {
     "data": {
      "text/html": [
       "<div>\n",
       "<style scoped>\n",
       "    .dataframe tbody tr th:only-of-type {\n",
       "        vertical-align: middle;\n",
       "    }\n",
       "\n",
       "    .dataframe tbody tr th {\n",
       "        vertical-align: top;\n",
       "    }\n",
       "\n",
       "    .dataframe thead th {\n",
       "        text-align: right;\n",
       "    }\n",
       "</style>\n",
       "<table border=\"1\" class=\"dataframe\">\n",
       "  <thead>\n",
       "    <tr style=\"text-align: right;\">\n",
       "      <th></th>\n",
       "      <th>id</th>\n",
       "      <th>uri</th>\n",
       "      <th>nome</th>\n",
       "      <th>siglaPartido</th>\n",
       "      <th>uriPartido</th>\n",
       "      <th>siglaUf</th>\n",
       "      <th>idLegislatura</th>\n",
       "      <th>urlFoto</th>\n",
       "      <th>email</th>\n",
       "    </tr>\n",
       "  </thead>\n",
       "  <tbody>\n",
       "    <tr>\n",
       "      <th>0</th>\n",
       "      <td>220593</td>\n",
       "      <td>https://dadosabertos.camara.leg.br/api/v2/depu...</td>\n",
       "      <td>Abilio Brunini</td>\n",
       "      <td>PL</td>\n",
       "      <td>https://dadosabertos.camara.leg.br/api/v2/part...</td>\n",
       "      <td>MT</td>\n",
       "      <td>57</td>\n",
       "      <td>https://www.camara.leg.br/internet/deputado/ba...</td>\n",
       "      <td>dep.abiliobrunini@camara.leg.br</td>\n",
       "    </tr>\n",
       "    <tr>\n",
       "      <th>1</th>\n",
       "      <td>204379</td>\n",
       "      <td>https://dadosabertos.camara.leg.br/api/v2/depu...</td>\n",
       "      <td>Acácio Favacho</td>\n",
       "      <td>MDB</td>\n",
       "      <td>https://dadosabertos.camara.leg.br/api/v2/part...</td>\n",
       "      <td>AP</td>\n",
       "      <td>57</td>\n",
       "      <td>https://www.camara.leg.br/internet/deputado/ba...</td>\n",
       "      <td>dep.acaciofavacho@camara.leg.br</td>\n",
       "    </tr>\n",
       "    <tr>\n",
       "      <th>2</th>\n",
       "      <td>220714</td>\n",
       "      <td>https://dadosabertos.camara.leg.br/api/v2/depu...</td>\n",
       "      <td>Adail Filho</td>\n",
       "      <td>REPUBLICANOS</td>\n",
       "      <td>https://dadosabertos.camara.leg.br/api/v2/part...</td>\n",
       "      <td>AM</td>\n",
       "      <td>57</td>\n",
       "      <td>https://www.camara.leg.br/internet/deputado/ba...</td>\n",
       "      <td>dep.adailfilho@camara.leg.br</td>\n",
       "    </tr>\n",
       "    <tr>\n",
       "      <th>3</th>\n",
       "      <td>221328</td>\n",
       "      <td>https://dadosabertos.camara.leg.br/api/v2/depu...</td>\n",
       "      <td>Adilson Barroso</td>\n",
       "      <td>PL</td>\n",
       "      <td>https://dadosabertos.camara.leg.br/api/v2/part...</td>\n",
       "      <td>SP</td>\n",
       "      <td>57</td>\n",
       "      <td>https://www.camara.leg.br/internet/deputado/ba...</td>\n",
       "      <td>dep.adilsonbarroso@camara.leg.br</td>\n",
       "    </tr>\n",
       "    <tr>\n",
       "      <th>4</th>\n",
       "      <td>204560</td>\n",
       "      <td>https://dadosabertos.camara.leg.br/api/v2/depu...</td>\n",
       "      <td>Adolfo Viana</td>\n",
       "      <td>PSDB</td>\n",
       "      <td>https://dadosabertos.camara.leg.br/api/v2/part...</td>\n",
       "      <td>BA</td>\n",
       "      <td>57</td>\n",
       "      <td>https://www.camara.leg.br/internet/deputado/ba...</td>\n",
       "      <td>dep.adolfoviana@camara.leg.br</td>\n",
       "    </tr>\n",
       "  </tbody>\n",
       "</table>\n",
       "</div>"
      ],
      "text/plain": [
       "       id                                                uri             nome  \\\n",
       "0  220593  https://dadosabertos.camara.leg.br/api/v2/depu...   Abilio Brunini   \n",
       "1  204379  https://dadosabertos.camara.leg.br/api/v2/depu...   Acácio Favacho   \n",
       "2  220714  https://dadosabertos.camara.leg.br/api/v2/depu...      Adail Filho   \n",
       "3  221328  https://dadosabertos.camara.leg.br/api/v2/depu...  Adilson Barroso   \n",
       "4  204560  https://dadosabertos.camara.leg.br/api/v2/depu...     Adolfo Viana   \n",
       "\n",
       "   siglaPartido                                         uriPartido siglaUf  \\\n",
       "0            PL  https://dadosabertos.camara.leg.br/api/v2/part...      MT   \n",
       "1           MDB  https://dadosabertos.camara.leg.br/api/v2/part...      AP   \n",
       "2  REPUBLICANOS  https://dadosabertos.camara.leg.br/api/v2/part...      AM   \n",
       "3            PL  https://dadosabertos.camara.leg.br/api/v2/part...      SP   \n",
       "4          PSDB  https://dadosabertos.camara.leg.br/api/v2/part...      BA   \n",
       "\n",
       "   idLegislatura                                            urlFoto  \\\n",
       "0             57  https://www.camara.leg.br/internet/deputado/ba...   \n",
       "1             57  https://www.camara.leg.br/internet/deputado/ba...   \n",
       "2             57  https://www.camara.leg.br/internet/deputado/ba...   \n",
       "3             57  https://www.camara.leg.br/internet/deputado/ba...   \n",
       "4             57  https://www.camara.leg.br/internet/deputado/ba...   \n",
       "\n",
       "                              email  \n",
       "0   dep.abiliobrunini@camara.leg.br  \n",
       "1   dep.acaciofavacho@camara.leg.br  \n",
       "2      dep.adailfilho@camara.leg.br  \n",
       "3  dep.adilsonbarroso@camara.leg.br  \n",
       "4     dep.adolfoviana@camara.leg.br  "
      ]
     },
     "execution_count": 48,
     "metadata": {},
     "output_type": "execute_result"
    }
   ],
   "source": [
    "df = pd.DataFrame(dados_parametros)\n",
    "df.head()"
   ]
  },
  {
   "cell_type": "markdown",
   "id": "2bbb504f",
   "metadata": {},
   "source": [
    "O parâmetro deixado vazio vai exercer a função de filtro na requisição da API, trazendo assim a informação indicada conforme a nescessidade."
   ]
  },
  {
   "cell_type": "code",
   "execution_count": 49,
   "id": "e5764bee",
   "metadata": {},
   "outputs": [],
   "source": [
    "# Requisição dos dados dos Deputados utilizando parametros\n",
    "url              = 'https://dadosabertos.camara.leg.br/api/v2/deputados'\n",
    "parametros       = {'id': 220715}\n",
    "resposta         = requests.request(\"GET\", url, params=parametros)\n",
    "objetos          = json.loads(resposta.text)\n",
    "dados_parametros = objetos['dados']"
   ]
  },
  {
   "cell_type": "markdown",
   "id": "dc58a519",
   "metadata": {},
   "source": [
    "Assim é possível fazer a extração na API conforme os parâmetros informados"
   ]
  },
  {
   "cell_type": "code",
   "execution_count": 50,
   "id": "01a08428",
   "metadata": {
    "scrolled": true
   },
   "outputs": [
    {
     "data": {
      "text/plain": [
       "[{'id': 220715,\n",
       "  'uri': 'https://dadosabertos.camara.leg.br/api/v2/deputados/220715',\n",
       "  'nome': 'Amom Mandel',\n",
       "  'siglaPartido': 'CIDADANIA',\n",
       "  'uriPartido': 'https://dadosabertos.camara.leg.br/api/v2/partidos/37905',\n",
       "  'siglaUf': 'AM',\n",
       "  'idLegislatura': 57,\n",
       "  'urlFoto': 'https://www.camara.leg.br/internet/deputado/bandep/220715.jpg',\n",
       "  'email': 'dep.amommandel@camara.leg.br'}]"
      ]
     },
     "execution_count": 50,
     "metadata": {},
     "output_type": "execute_result"
    }
   ],
   "source": [
    "dados_parametros"
   ]
  },
  {
   "cell_type": "code",
   "execution_count": 55,
   "id": "d708f0e6",
   "metadata": {},
   "outputs": [
    {
     "data": {
      "text/html": [
       "<div>\n",
       "<style scoped>\n",
       "    .dataframe tbody tr th:only-of-type {\n",
       "        vertical-align: middle;\n",
       "    }\n",
       "\n",
       "    .dataframe tbody tr th {\n",
       "        vertical-align: top;\n",
       "    }\n",
       "\n",
       "    .dataframe thead th {\n",
       "        text-align: right;\n",
       "    }\n",
       "</style>\n",
       "<table border=\"1\" class=\"dataframe\">\n",
       "  <thead>\n",
       "    <tr style=\"text-align: right;\">\n",
       "      <th></th>\n",
       "      <th>id</th>\n",
       "      <th>uri</th>\n",
       "      <th>nome</th>\n",
       "      <th>siglaPartido</th>\n",
       "      <th>uriPartido</th>\n",
       "      <th>siglaUf</th>\n",
       "      <th>idLegislatura</th>\n",
       "      <th>urlFoto</th>\n",
       "      <th>email</th>\n",
       "    </tr>\n",
       "  </thead>\n",
       "  <tbody>\n",
       "    <tr>\n",
       "      <th>0</th>\n",
       "      <td>220593</td>\n",
       "      <td>https://dadosabertos.camara.leg.br/api/v2/depu...</td>\n",
       "      <td>Abilio Brunini</td>\n",
       "      <td>PL</td>\n",
       "      <td>https://dadosabertos.camara.leg.br/api/v2/part...</td>\n",
       "      <td>MT</td>\n",
       "      <td>57</td>\n",
       "      <td>https://www.camara.leg.br/internet/deputado/ba...</td>\n",
       "      <td>dep.abiliobrunini@camara.leg.br</td>\n",
       "    </tr>\n",
       "    <tr>\n",
       "      <th>1</th>\n",
       "      <td>204379</td>\n",
       "      <td>https://dadosabertos.camara.leg.br/api/v2/depu...</td>\n",
       "      <td>Acácio Favacho</td>\n",
       "      <td>MDB</td>\n",
       "      <td>https://dadosabertos.camara.leg.br/api/v2/part...</td>\n",
       "      <td>AP</td>\n",
       "      <td>57</td>\n",
       "      <td>https://www.camara.leg.br/internet/deputado/ba...</td>\n",
       "      <td>dep.acaciofavacho@camara.leg.br</td>\n",
       "    </tr>\n",
       "    <tr>\n",
       "      <th>2</th>\n",
       "      <td>220714</td>\n",
       "      <td>https://dadosabertos.camara.leg.br/api/v2/depu...</td>\n",
       "      <td>Adail Filho</td>\n",
       "      <td>REPUBLICANOS</td>\n",
       "      <td>https://dadosabertos.camara.leg.br/api/v2/part...</td>\n",
       "      <td>AM</td>\n",
       "      <td>57</td>\n",
       "      <td>https://www.camara.leg.br/internet/deputado/ba...</td>\n",
       "      <td>dep.adailfilho@camara.leg.br</td>\n",
       "    </tr>\n",
       "    <tr>\n",
       "      <th>3</th>\n",
       "      <td>221328</td>\n",
       "      <td>https://dadosabertos.camara.leg.br/api/v2/depu...</td>\n",
       "      <td>Adilson Barroso</td>\n",
       "      <td>PL</td>\n",
       "      <td>https://dadosabertos.camara.leg.br/api/v2/part...</td>\n",
       "      <td>SP</td>\n",
       "      <td>57</td>\n",
       "      <td>https://www.camara.leg.br/internet/deputado/ba...</td>\n",
       "      <td>dep.adilsonbarroso@camara.leg.br</td>\n",
       "    </tr>\n",
       "    <tr>\n",
       "      <th>4</th>\n",
       "      <td>204560</td>\n",
       "      <td>https://dadosabertos.camara.leg.br/api/v2/depu...</td>\n",
       "      <td>Adolfo Viana</td>\n",
       "      <td>PSDB</td>\n",
       "      <td>https://dadosabertos.camara.leg.br/api/v2/part...</td>\n",
       "      <td>BA</td>\n",
       "      <td>57</td>\n",
       "      <td>https://www.camara.leg.br/internet/deputado/ba...</td>\n",
       "      <td>dep.adolfoviana@camara.leg.br</td>\n",
       "    </tr>\n",
       "  </tbody>\n",
       "</table>\n",
       "</div>"
      ],
      "text/plain": [
       "       id                                                uri             nome  \\\n",
       "0  220593  https://dadosabertos.camara.leg.br/api/v2/depu...   Abilio Brunini   \n",
       "1  204379  https://dadosabertos.camara.leg.br/api/v2/depu...   Acácio Favacho   \n",
       "2  220714  https://dadosabertos.camara.leg.br/api/v2/depu...      Adail Filho   \n",
       "3  221328  https://dadosabertos.camara.leg.br/api/v2/depu...  Adilson Barroso   \n",
       "4  204560  https://dadosabertos.camara.leg.br/api/v2/depu...     Adolfo Viana   \n",
       "\n",
       "   siglaPartido                                         uriPartido siglaUf  \\\n",
       "0            PL  https://dadosabertos.camara.leg.br/api/v2/part...      MT   \n",
       "1           MDB  https://dadosabertos.camara.leg.br/api/v2/part...      AP   \n",
       "2  REPUBLICANOS  https://dadosabertos.camara.leg.br/api/v2/part...      AM   \n",
       "3            PL  https://dadosabertos.camara.leg.br/api/v2/part...      SP   \n",
       "4          PSDB  https://dadosabertos.camara.leg.br/api/v2/part...      BA   \n",
       "\n",
       "   idLegislatura                                            urlFoto  \\\n",
       "0             57  https://www.camara.leg.br/internet/deputado/ba...   \n",
       "1             57  https://www.camara.leg.br/internet/deputado/ba...   \n",
       "2             57  https://www.camara.leg.br/internet/deputado/ba...   \n",
       "3             57  https://www.camara.leg.br/internet/deputado/ba...   \n",
       "4             57  https://www.camara.leg.br/internet/deputado/ba...   \n",
       "\n",
       "                              email  \n",
       "0   dep.abiliobrunini@camara.leg.br  \n",
       "1   dep.acaciofavacho@camara.leg.br  \n",
       "2      dep.adailfilho@camara.leg.br  \n",
       "3  dep.adilsonbarroso@camara.leg.br  \n",
       "4     dep.adolfoviana@camara.leg.br  "
      ]
     },
     "execution_count": 55,
     "metadata": {},
     "output_type": "execute_result"
    }
   ],
   "source": [
    "df = pd.DataFrame(dados)\n",
    "df.head()"
   ]
  },
  {
   "cell_type": "code",
   "execution_count": 56,
   "id": "f9408d42",
   "metadata": {},
   "outputs": [
    {
     "name": "stdout",
     "output_type": "stream",
     "text": [
      "<class 'pandas.core.frame.DataFrame'>\n",
      "RangeIndex: 512 entries, 0 to 511\n",
      "Data columns (total 9 columns):\n",
      " #   Column         Non-Null Count  Dtype \n",
      "---  ------         --------------  ----- \n",
      " 0   id             512 non-null    int64 \n",
      " 1   uri            512 non-null    object\n",
      " 2   nome           512 non-null    object\n",
      " 3   siglaPartido   512 non-null    object\n",
      " 4   uriPartido     512 non-null    object\n",
      " 5   siglaUf        512 non-null    object\n",
      " 6   idLegislatura  512 non-null    int64 \n",
      " 7   urlFoto        512 non-null    object\n",
      " 8   email          512 non-null    object\n",
      "dtypes: int64(2), object(7)\n",
      "memory usage: 36.1+ KB\n"
     ]
    }
   ],
   "source": [
    "df.info()"
   ]
  },
  {
   "cell_type": "markdown",
   "id": "aaaea4fa",
   "metadata": {},
   "source": [
    " Quantidade de deputados pela UF - Usaremos a função figure do matplotlib para ajustar o tamanho do gráfico. A função barplot do seaborn para gerar um gráfico de barras. E a função plot do matplotlib para exibir o gráfico gerado."
   ]
  },
  {
   "cell_type": "code",
   "execution_count": 59,
   "id": "9bd7cf6f",
   "metadata": {},
   "outputs": [
    {
     "data": {
      "text/plain": [
       "[]"
      ]
     },
     "execution_count": 59,
     "metadata": {},
     "output_type": "execute_result"
    },
    {
     "data": {
      "image/png": "[encoded data removed]",
      "text/plain": [
       "<Figure size 1500x500 with 1 Axes>"
      ]
     },
     "metadata": {},
     "output_type": "display_data"
    }
   ],
   "source": [
    "# Análise da quantidade de deputados pela UF\n",
    "x = df['siglaUf'].value_counts().index\n",
    "y = df['siglaUf'].value_counts().values\n",
    "plt.figure(figsize = (15, 5))\n",
    "sns.barplot(x=x, y=y, palette=\"deep\")\n",
    "plt.plot()"
   ]
  },
  {
   "cell_type": "code",
   "execution_count": 70,
   "id": "bb7f9af7",
   "metadata": {},
   "outputs": [
    {
     "data": {
      "text/plain": [
       "[]"
      ]
     },
     "execution_count": 70,
     "metadata": {},
     "output_type": "execute_result"
    },
    {
     "data": {
      "image/png": "[encoded data removed]",
      "text/plain": [
       "<Figure size 2500x1500 with 1 Axes>"
      ]
     },
     "metadata": {},
     "output_type": "display_data"
    }
   ],
   "source": [
    "# Análise da quantidade de deputados pelo Partido\n",
    "x = df['siglaPartido'].value_counts().index\n",
    "y = df['siglaPartido'].value_counts().values\n",
    "plt.figure(figsize = (25, 15))\n",
    "sns.barplot(x=x, y=y, palette=\"deep\")\n",
    "plt.plot()"
   ]
  },
  {
   "cell_type": "code",
   "execution_count": 71,
   "id": "f30fc368",
   "metadata": {},
   "outputs": [],
   "source": [
    "# Requisição dos dados dos Deputados\n",
    "url        = 'https://dadosabertos.camara.leg.br/api/v2/referencias/deputados/codSituacao'\n",
    "parametros = {}\n",
    "resposta   = requests.request(\"GET\", url, params=parametros)\n",
    "objetos    = json.loads(resposta.text)\n",
    "dados      = objetos['dados']\n",
    "dados_parametros = objetos['dados']"
   ]
  },
  {
   "cell_type": "code",
   "execution_count": null,
   "id": "84f6f054",
   "metadata": {},
   "outputs": [],
   "source": []
  }
 ],
 "metadata": {
  "kernelspec": {
   "display_name": "Python 3 (ipykernel)",
   "language": "python",
   "name": "python3"
  },
  "language_info": {
   "codemirror_mode": {
    "name": "ipython",
    "version": 3
   },
   "file_extension": ".py",
   "mimetype": "text/x-python",
   "name": "python",
   "nbconvert_exporter": "python",
   "pygments_lexer": "ipython3",
   "version": "3.10.0"
  }
 },
 "nbformat": 4,
 "nbformat_minor": 5
}
